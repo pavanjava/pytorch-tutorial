{
 "cells": [
  {
   "cell_type": "code",
   "execution_count": 1,
   "id": "fd916e4e",
   "metadata": {},
   "outputs": [],
   "source": [
    "import torch"
   ]
  },
  {
   "cell_type": "markdown",
   "id": "f0d36a6b",
   "metadata": {},
   "source": [
    "### Single Path Computational Graph with torch"
   ]
  },
  {
   "cell_type": "code",
   "execution_count": 2,
   "id": "9e941abd",
   "metadata": {},
   "outputs": [],
   "source": [
    "x = torch.tensor(3.5, requires_grad=True)\n",
    "y = x**2\n",
    "z = 2*x + 3"
   ]
  },
  {
   "cell_type": "code",
   "execution_count": 3,
   "id": "82673d49",
   "metadata": {},
   "outputs": [
    {
     "name": "stdout",
     "output_type": "stream",
     "text": [
      "x:  tensor(3.5000, requires_grad=True)\n",
      "y:  tensor(12.2500, grad_fn=<PowBackward0>)\n",
      "z:  tensor(10., grad_fn=<AddBackward0>)\n"
     ]
    }
   ],
   "source": [
    "print(\"x: \", x)\n",
    "print(\"y: \", y)\n",
    "print(\"z: \", z)"
   ]
  },
  {
   "cell_type": "code",
   "execution_count": 4,
   "id": "badb572d",
   "metadata": {},
   "outputs": [],
   "source": [
    "z.backward()"
   ]
  },
  {
   "cell_type": "code",
   "execution_count": 5,
   "id": "116dbcf8",
   "metadata": {},
   "outputs": [
    {
     "name": "stdout",
     "output_type": "stream",
     "text": [
      "Working out gradients dz/dx\n",
      "Gradient at x = 3.5:  tensor(2.)\n"
     ]
    }
   ],
   "source": [
    "print(\"Working out gradients dz/dx\")\n",
    "# what is gradient at x = 3.5\n",
    "print(\"Gradient at x = 3.5: \", x.grad)"
   ]
  },
  {
   "cell_type": "markdown",
   "id": "84d32054",
   "metadata": {},
   "source": [
    "### Multipath Computational graph"
   ]
  },
  {
   "cell_type": "code",
   "execution_count": 6,
   "id": "d93cf1fe",
   "metadata": {},
   "outputs": [
    {
     "name": "stdout",
     "output_type": "stream",
     "text": [
      "a:  tensor(3., requires_grad=True)\n",
      "b:  tensor(2., requires_grad=True)\n",
      "x:  tensor(12., grad_fn=<AddBackward0>)\n",
      "y:  tensor(69., grad_fn=<AddBackward0>)\n",
      "z:  tensor(231., grad_fn=<AddBackward0>)\n",
      "Working out gradient dz/da\n",
      "Gradient at a=2.0: tensor(94.)\n"
     ]
    }
   ],
   "source": [
    "import torch\n",
    "# set up simple graph relating x, y and z\n",
    "a = torch.tensor(3.0, requires_grad=True)\n",
    "b = torch.tensor(2.0, requires_grad=True)\n",
    "\n",
    "x = 2*a + 3*b\n",
    "y = 5*a*a + 3*b*b*b\n",
    "z = 2*x + 3*y\n",
    "\n",
    "print(\"a: \", a)\n",
    "print(\"b: \", b)\n",
    "print(\"x: \", x)\n",
    "print(\"y: \", y)\n",
    "print(\"z: \", z)\n",
    "\n",
    "# work out gradients\n",
    "z.backward()\n",
    "print(\"Working out gradient dz/da\")\n",
    "\n",
    "# what is gradient at a = 2.0\n",
    "print(\"Gradient at a=2.0:\", a.grad)"
   ]
  },
  {
   "cell_type": "code",
   "execution_count": null,
   "id": "9d9ac934",
   "metadata": {},
   "outputs": [],
   "source": []
  }
 ],
 "metadata": {
  "kernelspec": {
   "display_name": "Python 3.10 (pytorch)",
   "language": "python",
   "name": "pytorch"
  },
  "language_info": {
   "codemirror_mode": {
    "name": "ipython",
    "version": 3
   },
   "file_extension": ".py",
   "mimetype": "text/x-python",
   "name": "python",
   "nbconvert_exporter": "python",
   "pygments_lexer": "ipython3",
   "version": "3.10.10"
  }
 },
 "nbformat": 4,
 "nbformat_minor": 5
}
