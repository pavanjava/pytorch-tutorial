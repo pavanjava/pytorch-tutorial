{
 "cells": [
  {
   "cell_type": "code",
   "execution_count": 10,
   "id": "16a6f123",
   "metadata": {},
   "outputs": [],
   "source": [
    "import torch\n",
    "import numpy as np"
   ]
  },
  {
   "cell_type": "markdown",
   "id": "b12d4234",
   "metadata": {},
   "source": [
    "### Initialising Empty Tensors / Vectors"
   ]
  },
  {
   "cell_type": "code",
   "execution_count": 2,
   "id": "5c345cb2",
   "metadata": {},
   "outputs": [
    {
     "name": "stdout",
     "output_type": "stream",
     "text": [
      "tensor([0.])\n"
     ]
    }
   ],
   "source": [
    "_scalar = torch.empty(1)\n",
    "print(_scalar)"
   ]
  },
  {
   "cell_type": "code",
   "execution_count": 3,
   "id": "af797aad",
   "metadata": {},
   "outputs": [
    {
     "name": "stdout",
     "output_type": "stream",
     "text": [
      "tensor([0., 0.])\n"
     ]
    }
   ],
   "source": [
    "_1DVector = torch.empty(2)\n",
    "print(_1DVector)"
   ]
  },
  {
   "cell_type": "code",
   "execution_count": 4,
   "id": "7c317cf4",
   "metadata": {},
   "outputs": [
    {
     "name": "stdout",
     "output_type": "stream",
     "text": [
      "tensor([[0., 0.],\n",
      "        [0., 0.]])\n"
     ]
    }
   ],
   "source": [
    "_2Dvector = torch.empty(2,2)\n",
    "print(_2Dvector)"
   ]
  },
  {
   "cell_type": "code",
   "execution_count": 6,
   "id": "bccf31f3",
   "metadata": {},
   "outputs": [
    {
     "name": "stdout",
     "output_type": "stream",
     "text": [
      "tensor([[[0., 0.],\n",
      "         [0., 0.],\n",
      "         [0., 0.]],\n",
      "\n",
      "        [[0., 0.],\n",
      "         [0., 0.],\n",
      "         [0., 0.]],\n",
      "\n",
      "        [[0., 0.],\n",
      "         [0., 0.],\n",
      "         [0., 0.]]])\n"
     ]
    }
   ],
   "source": [
    "_MultiDimDvector = torch.empty(3,3,2)\n",
    "print(_MultiDimDvector)"
   ]
  },
  {
   "cell_type": "markdown",
   "id": "2f973d47",
   "metadata": {},
   "source": [
    "### Initializing tensor with values"
   ]
  },
  {
   "cell_type": "code",
   "execution_count": 7,
   "id": "811e8304",
   "metadata": {},
   "outputs": [
    {
     "name": "stdout",
     "output_type": "stream",
     "text": [
      "tensor([[0.6154, 0.1916],\n",
      "        [0.0298, 0.9228]])\n"
     ]
    }
   ],
   "source": [
    "_randTensor = torch.rand(2,2)\n",
    "print(_randTensor)"
   ]
  },
  {
   "cell_type": "code",
   "execution_count": 8,
   "id": "e4240c02",
   "metadata": {},
   "outputs": [
    {
     "name": "stdout",
     "output_type": "stream",
     "text": [
      "tensor([[0., 0.],\n",
      "        [0., 0.]])\n"
     ]
    }
   ],
   "source": [
    "_zeroTensor = torch.zeros(2,2)\n",
    "print(_zeroTensor)"
   ]
  },
  {
   "cell_type": "code",
   "execution_count": 9,
   "id": "e780619f",
   "metadata": {},
   "outputs": [
    {
     "name": "stdout",
     "output_type": "stream",
     "text": [
      "torch.float32\n",
      "torch.Size([2, 2])\n"
     ]
    }
   ],
   "source": [
    "# check the type and size() of the tensor\n",
    "print(_randTensor.dtype)\n",
    "print(_randTensor.size())"
   ]
  },
  {
   "cell_type": "code",
   "execution_count": 14,
   "id": "5956f5c8",
   "metadata": {},
   "outputs": [
    {
     "name": "stdout",
     "output_type": "stream",
     "text": [
      "tensor([1.8000, 4.6000, 2.6000, 3.9000], dtype=torch.float64)\n",
      "torch.float64\n",
      "torch.Size([4])\n"
     ]
    }
   ],
   "source": [
    "_tensorFromList = torch.tensor(np.array([1.8, 4.6, 2.6, 3.9]))\n",
    "print(_tensorFromList)\n",
    "print(_tensorFromList.dtype)\n",
    "print(_tensorFromList.size())"
   ]
  },
  {
   "cell_type": "markdown",
   "id": "27e2c715",
   "metadata": {},
   "source": [
    "### Basic operations on tensors"
   ]
  },
  {
   "cell_type": "code",
   "execution_count": 18,
   "id": "c0b6db49",
   "metadata": {},
   "outputs": [
    {
     "name": "stdout",
     "output_type": "stream",
     "text": [
      "Tensor Addition1:  tensor([[0.7521, 1.5726],\n",
      "        [1.5451, 1.7344]])\n",
      "Tensor Addition2:  tensor([[0.7521, 1.5726],\n",
      "        [1.5451, 1.7344]])\n",
      "Tensor Multiplication: tensor([[0.6754, 0.6986],\n",
      "        [1.2151, 1.2886]])\n"
     ]
    }
   ],
   "source": [
    "X = torch.rand(2,2)\n",
    "y = torch.rand(2,2)\n",
    "\n",
    "## Adding tensors\n",
    "\n",
    "_tensorAddition = X + y\n",
    "print(\"Tensor Addition1: \",_tensorAddition)\n",
    "\n",
    "_tensorAddition = torch.add(X, y)\n",
    "print(\"Tensor Addition2: \", _tensorAddition)\n",
    "\n",
    "_tensorMul = torch.matmul(X, y)\n",
    "print(\"Tensor Multiplication:\", _tensorMul)"
   ]
  },
  {
   "cell_type": "markdown",
   "id": "8f4293d8",
   "metadata": {},
   "source": [
    "### Selecting specific row and column"
   ]
  },
  {
   "cell_type": "code",
   "execution_count": 24,
   "id": "bda1a39e",
   "metadata": {},
   "outputs": [
    {
     "name": "stdout",
     "output_type": "stream",
     "text": [
      "tensor([[0.9142, 0.1158, 0.2695, 0.7451, 0.4152],\n",
      "        [0.6099, 0.1600, 0.4836, 0.6164, 0.5235],\n",
      "        [0.0304, 0.2665, 0.2854, 0.3350, 0.0855],\n",
      "        [0.6923, 0.2678, 0.3411, 0.6688, 0.7480],\n",
      "        [0.3420, 0.8140, 0.3093, 0.5449, 0.9698],\n",
      "        [0.5648, 0.4177, 0.1319, 0.2778, 0.1631],\n",
      "        [0.9215, 0.8578, 0.8370, 0.4246, 0.4276],\n",
      "        [0.8108, 0.7406, 0.3365, 0.1490, 0.0518]])\n",
      "tensor([0.2695, 0.4836, 0.2854, 0.3411, 0.3093, 0.1319, 0.8370, 0.3365])\n",
      "tensor([0.0304, 0.2665, 0.2854, 0.3350, 0.0855])\n"
     ]
    }
   ],
   "source": [
    "_randomTensor = torch.rand(8,5)\n",
    "print(_randomTensor)\n",
    "\n",
    "# selecting all rows and a specific column, in this case its column 2\n",
    "print(_randomTensor[:, 2])\n",
    "\n",
    "# selecting all columns and a specific row, in this case its row 2\n",
    "print(_randomTensor[2, :])"
   ]
  },
  {
   "cell_type": "markdown",
   "id": "0dcf4751",
   "metadata": {},
   "source": [
    "### Reshaping the tensor"
   ]
  },
  {
   "cell_type": "code",
   "execution_count": 30,
   "id": "66333d13",
   "metadata": {},
   "outputs": [
    {
     "name": "stdout",
     "output_type": "stream",
     "text": [
      "tensor([[0.6663, 0.5060, 0.5663, 0.4178, 0.4369],\n",
      "        [0.7370, 0.0947, 0.7268, 0.4268, 0.6994],\n",
      "        [0.5449, 0.5490, 0.5540, 0.2136, 0.1773],\n",
      "        [0.2034, 0.2736, 0.5803, 0.7570, 0.8834]])\n",
      "tensor([0.6663, 0.5060, 0.5663, 0.4178, 0.4369, 0.7370, 0.0947, 0.7268, 0.4268,\n",
      "        0.6994, 0.5449, 0.5490, 0.5540, 0.2136, 0.1773, 0.2034, 0.2736, 0.5803,\n",
      "        0.7570, 0.8834])\n",
      "tensor([[0.6663, 0.5060, 0.5663, 0.4178],\n",
      "        [0.4369, 0.7370, 0.0947, 0.7268],\n",
      "        [0.4268, 0.6994, 0.5449, 0.5490],\n",
      "        [0.5540, 0.2136, 0.1773, 0.2034],\n",
      "        [0.2736, 0.5803, 0.7570, 0.8834]])\n"
     ]
    }
   ],
   "source": [
    "_randomTensor = torch.rand(4,5)\n",
    "print(_randomTensor)\n",
    "\n",
    "print(_randomTensor.view(20)) # reshape to 1D tensor\n",
    "print(_randomTensor.view(-1, 4)) # dynamycally reshape according to the total number of elements"
   ]
  },
  {
   "cell_type": "markdown",
   "id": "9184ba33",
   "metadata": {},
   "source": [
    "### Convert Numpy arrays to torch tensor & vice-versa"
   ]
  },
  {
   "cell_type": "code",
   "execution_count": 31,
   "id": "575686df",
   "metadata": {},
   "outputs": [
    {
     "name": "stdout",
     "output_type": "stream",
     "text": [
      "tensor([[1, 2, 3],\n",
      "        [4, 5, 6]])\n"
     ]
    }
   ],
   "source": [
    "# Create a 2x3 NumPy array\n",
    "arr_np = np.array([[1, 2, 3], [4, 5, 6]])\n",
    "\n",
    "# Convert NumPy array to PyTorch tensor\n",
    "tensor_torch = torch.from_numpy(arr_np)\n",
    "\n",
    "# Print the PyTorch tensor\n",
    "print(tensor_torch)"
   ]
  },
  {
   "cell_type": "code",
   "execution_count": 32,
   "id": "66a738a0",
   "metadata": {},
   "outputs": [
    {
     "name": "stdout",
     "output_type": "stream",
     "text": [
      "[[1 2 3]\n",
      " [4 5 6]]\n"
     ]
    }
   ],
   "source": [
    "# Create a 2x3 PyTorch tensor\n",
    "tensor_torch = torch.tensor([[1, 2, 3], [4, 5, 6]])\n",
    "\n",
    "# Convert PyTorch tensor to NumPy array\n",
    "arr_np = tensor_torch.numpy()\n",
    "\n",
    "# Print the NumPy array\n",
    "print(arr_np)"
   ]
  },
  {
   "cell_type": "code",
   "execution_count": null,
   "id": "c6ff2d4b",
   "metadata": {},
   "outputs": [],
   "source": []
  }
 ],
 "metadata": {
  "kernelspec": {
   "display_name": "Python 3.10 (pytorch)",
   "language": "python",
   "name": "pytorch"
  },
  "language_info": {
   "codemirror_mode": {
    "name": "ipython",
    "version": 3
   },
   "file_extension": ".py",
   "mimetype": "text/x-python",
   "name": "python",
   "nbconvert_exporter": "python",
   "pygments_lexer": "ipython3",
   "version": "3.10.10"
  }
 },
 "nbformat": 4,
 "nbformat_minor": 5
}
