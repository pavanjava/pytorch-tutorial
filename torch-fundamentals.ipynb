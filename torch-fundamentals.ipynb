{
 "cells": [
  {
   "cell_type": "code",
   "execution_count": 1,
   "id": "16a6f123",
   "metadata": {
    "ExecuteTime": {
     "end_time": "2023-12-15T03:45:47.916968Z",
     "start_time": "2023-12-15T03:45:45.110173Z"
    }
   },
   "outputs": [],
   "source": [
    "import torch\n",
    "import numpy as np"
   ]
  },
  {
   "cell_type": "markdown",
   "id": "b12d4234",
   "metadata": {},
   "source": [
    "### Initialising Empty Tensors / Vectors"
   ]
  },
  {
   "cell_type": "code",
   "execution_count": 2,
   "id": "5c345cb2",
   "metadata": {
    "ExecuteTime": {
     "end_time": "2023-12-15T03:45:52.732902Z",
     "start_time": "2023-12-15T03:45:52.726242Z"
    }
   },
   "outputs": [
    {
     "name": "stdout",
     "output_type": "stream",
     "text": [
      "tensor([0.])\n"
     ]
    }
   ],
   "source": [
    "_scalar = torch.empty(1)\n",
    "print(_scalar)"
   ]
  },
  {
   "cell_type": "code",
   "execution_count": 3,
   "id": "af797aad",
   "metadata": {
    "ExecuteTime": {
     "end_time": "2023-12-15T03:45:54.368573Z",
     "start_time": "2023-12-15T03:45:54.365019Z"
    }
   },
   "outputs": [
    {
     "name": "stdout",
     "output_type": "stream",
     "text": [
      "tensor([0., 0.])\n"
     ]
    }
   ],
   "source": [
    "_1DVector = torch.empty(2)\n",
    "print(_1DVector)"
   ]
  },
  {
   "cell_type": "code",
   "execution_count": 4,
   "id": "7c317cf4",
   "metadata": {
    "ExecuteTime": {
     "end_time": "2023-12-15T03:45:55.041754Z",
     "start_time": "2023-12-15T03:45:55.038232Z"
    }
   },
   "outputs": [
    {
     "name": "stdout",
     "output_type": "stream",
     "text": [
      "tensor([[0., 0.],\n",
      "        [0., 0.]])\n"
     ]
    }
   ],
   "source": [
    "_2Dvector = torch.empty(2,2)\n",
    "print(_2Dvector)"
   ]
  },
  {
   "cell_type": "code",
   "execution_count": 5,
   "id": "bccf31f3",
   "metadata": {
    "ExecuteTime": {
     "end_time": "2023-12-15T03:45:55.746416Z",
     "start_time": "2023-12-15T03:45:55.741666Z"
    }
   },
   "outputs": [
    {
     "name": "stdout",
     "output_type": "stream",
     "text": [
      "tensor([[[0., 0.],\n",
      "         [0., 0.],\n",
      "         [0., 0.]],\n",
      "\n",
      "        [[0., 0.],\n",
      "         [0., 0.],\n",
      "         [0., 0.]],\n",
      "\n",
      "        [[0., 0.],\n",
      "         [0., 0.],\n",
      "         [0., 0.]]])\n"
     ]
    }
   ],
   "source": [
    "_MultiDimDvector = torch.empty(3,3,2)\n",
    "print(_MultiDimDvector)"
   ]
  },
  {
   "cell_type": "markdown",
   "id": "2f973d47",
   "metadata": {},
   "source": [
    "### Initializing tensor with values"
   ]
  },
  {
   "cell_type": "code",
   "execution_count": 6,
   "id": "811e8304",
   "metadata": {
    "ExecuteTime": {
     "end_time": "2023-12-15T03:46:02.709815Z",
     "start_time": "2023-12-15T03:46:02.704894Z"
    }
   },
   "outputs": [
    {
     "name": "stdout",
     "output_type": "stream",
     "text": [
      "tensor([[0.3984, 0.3364],\n",
      "        [0.3740, 0.4964]])\n"
     ]
    }
   ],
   "source": [
    "_randTensor = torch.rand(2,2)\n",
    "print(_randTensor)"
   ]
  },
  {
   "cell_type": "code",
   "execution_count": 7,
   "id": "e4240c02",
   "metadata": {
    "ExecuteTime": {
     "end_time": "2023-12-15T03:46:02.919818Z",
     "start_time": "2023-12-15T03:46:02.917010Z"
    }
   },
   "outputs": [
    {
     "name": "stdout",
     "output_type": "stream",
     "text": [
      "tensor([[0., 0.],\n",
      "        [0., 0.]])\n"
     ]
    }
   ],
   "source": [
    "_zeroTensor = torch.zeros(2,2)\n",
    "print(_zeroTensor)"
   ]
  },
  {
   "cell_type": "code",
   "execution_count": 8,
   "id": "e780619f",
   "metadata": {
    "ExecuteTime": {
     "end_time": "2023-12-15T03:46:03.139918Z",
     "start_time": "2023-12-15T03:46:03.134784Z"
    }
   },
   "outputs": [
    {
     "name": "stdout",
     "output_type": "stream",
     "text": [
      "torch.float32\n",
      "torch.Size([2, 2])\n"
     ]
    }
   ],
   "source": [
    "# check the type and size() of the tensor\n",
    "print(_randTensor.dtype)\n",
    "print(_randTensor.size())"
   ]
  },
  {
   "cell_type": "code",
   "execution_count": 9,
   "id": "5956f5c8",
   "metadata": {
    "ExecuteTime": {
     "end_time": "2023-12-15T03:46:03.334094Z",
     "start_time": "2023-12-15T03:46:03.330077Z"
    }
   },
   "outputs": [
    {
     "name": "stdout",
     "output_type": "stream",
     "text": [
      "tensor([1.8000, 4.6000, 2.6000, 3.9000], dtype=torch.float64)\n",
      "torch.float64\n",
      "torch.Size([4])\n"
     ]
    }
   ],
   "source": [
    "_tensorFromList = torch.tensor(np.array([1.8, 4.6, 2.6, 3.9]))\n",
    "print(_tensorFromList)\n",
    "print(_tensorFromList.dtype)\n",
    "print(_tensorFromList.size())"
   ]
  },
  {
   "cell_type": "markdown",
   "id": "27e2c715",
   "metadata": {},
   "source": [
    "### Basic operations on tensors"
   ]
  },
  {
   "cell_type": "code",
   "execution_count": 10,
   "id": "c0b6db49",
   "metadata": {
    "ExecuteTime": {
     "end_time": "2023-12-15T03:46:04.136430Z",
     "start_time": "2023-12-15T03:46:04.131538Z"
    }
   },
   "outputs": [
    {
     "name": "stdout",
     "output_type": "stream",
     "text": [
      "Tensor Addition1:  tensor([[1.5909, 0.5918],\n",
      "        [1.0625, 1.5108]])\n",
      "Tensor Addition2:  tensor([[1.5909, 0.5918],\n",
      "        [1.0625, 1.5108]])\n",
      "Tensor Multiplication: tensor([[0.9025, 0.5277],\n",
      "        [0.6340, 0.5791]])\n"
     ]
    }
   ],
   "source": [
    "X = torch.rand(2,2)\n",
    "y = torch.rand(2,2)\n",
    "\n",
    "## Adding tensors\n",
    "\n",
    "_tensorAddition = X + y\n",
    "print(\"Tensor Addition1: \",_tensorAddition)\n",
    "\n",
    "_tensorAddition = torch.add(X, y)\n",
    "print(\"Tensor Addition2: \", _tensorAddition)\n",
    "\n",
    "_tensorMul = torch.matmul(X, y)\n",
    "print(\"Tensor Multiplication:\", _tensorMul)"
   ]
  },
  {
   "cell_type": "markdown",
   "id": "8f4293d8",
   "metadata": {},
   "source": [
    "### Selecting specific row and column"
   ]
  },
  {
   "cell_type": "code",
   "execution_count": 11,
   "id": "bda1a39e",
   "metadata": {
    "ExecuteTime": {
     "end_time": "2023-12-15T03:46:04.867945Z",
     "start_time": "2023-12-15T03:46:04.864114Z"
    }
   },
   "outputs": [
    {
     "name": "stdout",
     "output_type": "stream",
     "text": [
      "tensor([[0.2154, 0.1361, 0.6874, 0.5702, 0.3433],\n",
      "        [0.8499, 0.8222, 0.9080, 0.4943, 0.6427],\n",
      "        [0.9569, 0.5620, 0.6172, 0.4587, 0.1549],\n",
      "        [0.6876, 0.2989, 0.2408, 0.9825, 0.8142],\n",
      "        [0.8193, 0.6893, 0.6530, 0.7383, 0.8879],\n",
      "        [0.6427, 0.9909, 0.3234, 0.6303, 0.2454],\n",
      "        [0.8015, 0.2088, 0.5688, 0.5403, 0.1047],\n",
      "        [0.9631, 0.8342, 0.3299, 0.5223, 0.3990]])\n",
      "tensor([0.6874, 0.9080, 0.6172, 0.2408, 0.6530, 0.3234, 0.5688, 0.3299])\n",
      "tensor([0.9569, 0.5620, 0.6172, 0.4587, 0.1549])\n"
     ]
    }
   ],
   "source": [
    "_randomTensor = torch.rand(8,5)\n",
    "print(_randomTensor)\n",
    "\n",
    "# selecting all rows and a specific column, in this case its column 2\n",
    "print(_randomTensor[:, 2])\n",
    "\n",
    "# selecting all columns and a specific row, in this case its row 2\n",
    "print(_randomTensor[2, :])"
   ]
  },
  {
   "cell_type": "markdown",
   "id": "0dcf4751",
   "metadata": {},
   "source": [
    "### Reshaping the tensor"
   ]
  },
  {
   "cell_type": "code",
   "execution_count": 12,
   "id": "66333d13",
   "metadata": {
    "ExecuteTime": {
     "end_time": "2023-12-15T03:46:05.327540Z",
     "start_time": "2023-12-15T03:46:05.323577Z"
    }
   },
   "outputs": [
    {
     "name": "stdout",
     "output_type": "stream",
     "text": [
      "tensor([[0.0617, 0.9025, 0.5954, 0.8899, 0.2291],\n",
      "        [0.7858, 0.4394, 0.5564, 0.5479, 0.8759],\n",
      "        [0.1303, 0.9205, 0.5072, 0.7089, 0.7277],\n",
      "        [0.0679, 0.0284, 0.2195, 0.7885, 0.4136]])\n",
      "tensor([0.0617, 0.9025, 0.5954, 0.8899, 0.2291, 0.7858, 0.4394, 0.5564, 0.5479,\n",
      "        0.8759, 0.1303, 0.9205, 0.5072, 0.7089, 0.7277, 0.0679, 0.0284, 0.2195,\n",
      "        0.7885, 0.4136])\n",
      "tensor([[0.0617, 0.9025, 0.5954, 0.8899],\n",
      "        [0.2291, 0.7858, 0.4394, 0.5564],\n",
      "        [0.5479, 0.8759, 0.1303, 0.9205],\n",
      "        [0.5072, 0.7089, 0.7277, 0.0679],\n",
      "        [0.0284, 0.2195, 0.7885, 0.4136]])\n"
     ]
    }
   ],
   "source": [
    "_randomTensor = torch.rand(4,5)\n",
    "print(_randomTensor)\n",
    "\n",
    "print(_randomTensor.view(20)) # reshape to 1D tensor\n",
    "print(_randomTensor.view(-1, 4)) # dynamycally reshape according to the total number of elements"
   ]
  },
  {
   "cell_type": "markdown",
   "id": "9184ba33",
   "metadata": {},
   "source": [
    "### Convert Numpy arrays to torch tensor & vice-versa"
   ]
  },
  {
   "cell_type": "code",
   "execution_count": 13,
   "id": "575686df",
   "metadata": {
    "ExecuteTime": {
     "end_time": "2023-12-15T03:46:05.793868Z",
     "start_time": "2023-12-15T03:46:05.789399Z"
    }
   },
   "outputs": [
    {
     "name": "stdout",
     "output_type": "stream",
     "text": [
      "tensor([[1, 2, 3],\n",
      "        [4, 5, 6]])\n"
     ]
    }
   ],
   "source": [
    "# Create a 2x3 NumPy array\n",
    "arr_np = np.array([[1, 2, 3], [4, 5, 6]])\n",
    "\n",
    "# Convert NumPy array to PyTorch tensor\n",
    "tensor_torch = torch.from_numpy(arr_np)\n",
    "\n",
    "# Print the PyTorch tensor\n",
    "print(tensor_torch)"
   ]
  },
  {
   "cell_type": "code",
   "execution_count": 14,
   "id": "66a738a0",
   "metadata": {
    "ExecuteTime": {
     "end_time": "2023-12-15T03:46:06.016982Z",
     "start_time": "2023-12-15T03:46:06.012775Z"
    }
   },
   "outputs": [
    {
     "name": "stdout",
     "output_type": "stream",
     "text": [
      "[[1 2 3]\n",
      " [4 5 6]]\n"
     ]
    }
   ],
   "source": [
    "# Create a 2x3 PyTorch tensor\n",
    "tensor_torch = torch.tensor([[1, 2, 3], [4, 5, 6]])\n",
    "\n",
    "# Convert PyTorch tensor to NumPy array\n",
    "arr_np = tensor_torch.numpy()\n",
    "\n",
    "# Print the NumPy array\n",
    "print(arr_np)"
   ]
  },
  {
   "cell_type": "markdown",
   "id": "5e2f4686",
   "metadata": {},
   "source": [
    "### Check if GPU is available"
   ]
  },
  {
   "cell_type": "code",
   "execution_count": 15,
   "id": "51067b61",
   "metadata": {
    "ExecuteTime": {
     "end_time": "2023-12-15T03:46:07.031697Z",
     "start_time": "2023-12-15T03:46:07.028953Z"
    }
   },
   "outputs": [
    {
     "name": "stdout",
     "output_type": "stream",
     "text": [
      "No CUDA GPU available on the Machine\n"
     ]
    }
   ],
   "source": [
    "if torch.cuda.is_available():\n",
    "    device = torch.device('cuda')\n",
    "    x = torch.ones(5, device=device)\n",
    "    y = torch.ones(5)\n",
    "    y = y.to(device) # move the numpy array to GPU\n",
    "    z = x + y\n",
    "    z = z.to('cpu') # move the numpy array back to CPU\n",
    "    print(z)\n",
    "else:\n",
    "    print('No CUDA GPU available on the Machine')"
   ]
  },
  {
   "cell_type": "code",
   "execution_count": null,
   "id": "4bed1aad",
   "metadata": {},
   "outputs": [],
   "source": []
  }
 ],
 "metadata": {
  "kernelspec": {
   "display_name": "Python 3.10 (pytorch)",
   "language": "python",
   "name": "pytorch"
  },
  "language_info": {
   "codemirror_mode": {
    "name": "ipython",
    "version": 3
   },
   "file_extension": ".py",
   "mimetype": "text/x-python",
   "name": "python",
   "nbconvert_exporter": "python",
   "pygments_lexer": "ipython3",
   "version": "3.10.10"
  }
 },
 "nbformat": 4,
 "nbformat_minor": 5
}
